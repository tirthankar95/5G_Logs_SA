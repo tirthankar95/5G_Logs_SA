{
 "cells": [
  {
   "cell_type": "code",
   "execution_count": 1,
   "id": "91615512-8d2d-4464-afca-c761d1c30305",
   "metadata": {},
   "outputs": [],
   "source": [
    "import numpy as np\n",
    "import pandas as pd\n",
    "import json \n",
    "import pickle\n",
    "import torch\n",
    "import os\n",
    "from colorama import Style, Fore, Back\n",
    "\n",
    "import warnings\n",
    "from sklearn.exceptions import InconsistentVersionWarning\n",
    "warnings.filterwarnings(\"ignore\", category=InconsistentVersionWarning)\n",
    "warnings.filterwarnings(\"ignore\", category=UserWarning)\n",
    "\n",
    "import logging\n",
    "logger = logging.getLogger(__name__)\n",
    "logging.basicConfig(\n",
    "    format=f'{Style.BRIGHT}{Fore.GREEN}%(levelname)s:%(asctime)s{Style.RESET_ALL} {Fore.BLUE}%(message)s{Style.RESET_ALL}', \n",
    "    level=logging.INFO\n",
    ")"
   ]
  },
  {
   "cell_type": "code",
   "execution_count": 2,
   "id": "4ded9e87-26e7-4aa9-80b5-5625cad20f15",
   "metadata": {},
   "outputs": [],
   "source": [
    "from langchain_community.document_loaders  import TextLoader\n",
    "from langchain_text_splitters import RecursiveCharacterTextSplitter\n",
    "from langchain_chroma import Chroma \n",
    "from langchain_huggingface import HuggingFaceEmbeddings "
   ]
  },
  {
   "cell_type": "code",
   "execution_count": 8,
   "id": "08c75c82-775e-46e9-8c59-416ac07316ab",
   "metadata": {},
   "outputs": [
    {
     "name": "stderr",
     "output_type": "stream",
     "text": [
      "\u001b[1m\u001b[32mINFO:2025-01-10 02:30:24,732\u001b[0m \u001b[34mSize of docx: 1\u001b[0m\n",
      "\u001b[1m\u001b[32mINFO:2025-01-10 02:30:24,734\u001b[0m \u001b[34m\n",
      "[DEBUG] Everything is working properly.\n",
      "[INFO] Is there a reason for this happening.\n",
      "[WARNING] This is really bad!!\n",
      "[ERROR] Very dangerous.\u001b[0m\n",
      "\u001b[1m\u001b[32mINFO:2025-01-10 02:30:24,736\u001b[0m \u001b[34mSize of splits: 1\u001b[0m\n",
      "\u001b[1m\u001b[32mINFO:2025-01-10 02:30:24,738\u001b[0m \u001b[34m\n",
      "[DEBUG] Everything is working properly.\n",
      "[INFO] Is there a reason for this happening.\n",
      "[WARNING] This is really bad!!\n",
      "[ERROR] Very dangerous.\u001b[0m\n"
     ]
    }
   ],
   "source": [
    "# STEP 1 ~ Document Loader.\n",
    "loader = TextLoader(\"5G_logs_v2.txt\")\n",
    "docs = loader.load()\n",
    "logging.info(f'Size of docx: {len(docs)}')\n",
    "logging.info(f'\\n{docs[0].page_content}')\n",
    "\n",
    "# # STEP 2 ~ Split Documents.\n",
    "text_splitter = RecursiveCharacterTextSplitter(\n",
    "    chunk_size = 1000, # Each chunk will have 1000 characters\n",
    "    chunk_overlap = 200, # 200 characters will overlap from consecutive chunks\n",
    "    add_start_index = True # Output chunks will include a field that specifies the starting pos. in the orig docx.\n",
    ")\n",
    "all_splits = text_splitter.split_documents(docs)\n",
    "logging.info(f'Size of splits: {len(all_splits)}')\n",
    "logging.info(f'\\n{all_splits[0].page_content}')"
   ]
  }
 ],
 "metadata": {
  "kernelspec": {
   "display_name": "Python 3 (ipykernel)",
   "language": "python",
   "name": "python3"
  },
  "language_info": {
   "codemirror_mode": {
    "name": "ipython",
    "version": 3
   },
   "file_extension": ".py",
   "mimetype": "text/x-python",
   "name": "python",
   "nbconvert_exporter": "python",
   "pygments_lexer": "ipython3",
   "version": "3.12.3"
  }
 },
 "nbformat": 4,
 "nbformat_minor": 5
}
