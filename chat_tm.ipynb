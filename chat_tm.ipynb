{
 "cells": [
  {
   "cell_type": "code",
   "execution_count": 25,
   "metadata": {},
   "outputs": [
    {
     "name": "stdout",
     "output_type": "stream",
     "text": [
      "['Functional']\n"
     ]
    }
   ],
   "source": [
    "from pymongo import MongoClient\n",
    "\n",
    "host = \"localhost\"\n",
    "port = 27017\n",
    "client = MongoClient(f\"mongodb://{host}:{port}/\")\n",
    "db = client[\"LLMQueryAgent\"]\n",
    "print(db.list_collection_names())\n",
    "collection = db[\"Functional\"]"
   ]
  },
  {
   "cell_type": "code",
   "execution_count": 75,
   "metadata": {},
   "outputs": [
    {
     "data": {
      "text/plain": [
       "ChatPromptValue(messages=[SystemMessage(content=\"You are an expert AI assistant specializing in generating efficient and accurate MongoDB queries. \\nThe database schema is: {'_id': ObjectId('67ced2ca97c2a94c1b06d3d1'), 'frame_time': datetime.datetime(2024, 11, 4, 12, 5, 5, 428000), 'frame_time_epoch': 1730721905428675000, 'frame_number': '1496', 'protocol': 'HTTP2/JSON', 'src': 'UDR', 'dst': 'UDM', 'tcp_srcport': '2760', 'tcp_dstport': '34332', 'udp_srcport': '', 'udp_dstport': '', 'sctp_srcport': '', 'sctp_dstport': '', 'info': 'HEADERS[21]: /nudr-dr/v2/subscription-data/imsi-912116000000001/context-data/smf-registrations, 404', 'Error_Markers': {'type': 'http2', 'status': '404', 'request': '/nudr-dr/v2/subscription-data/imsi-912116000000001/context-data/smf-registrations', 'method': 'get'}, 'Message_Identifier': {'message': 'HEADERS[21]: /nudr-dr/v2/subscription-data/imsi-912116000000001/context-data/smf-registrations, 404'}, 'job_id': '98ad489a-9158-44f8-8f04-7b7e362e0d74'} \\n\\nWhen returning a query, output only the query itself—no extra words or explanations.\", additional_kwargs={}, response_metadata={}), HumanMessage(content='', additional_kwargs={}, response_metadata={}), AIMessage(content='', additional_kwargs={}, response_metadata={}), HumanMessage(content='What is the capital of France?', additional_kwargs={}, response_metadata={})])"
      ]
     },
     "execution_count": 75,
     "metadata": {},
     "output_type": "execute_result"
    }
   ],
   "source": [
    "from langchain_core.prompts import ChatPromptTemplate, MessagesPlaceholder\n",
    "\n",
    "prompt = ChatPromptTemplate.from_messages(\n",
    "    [\n",
    "        (\"system\", \"\"\"You are an expert AI assistant specializing in generating efficient and accurate MongoDB queries. \n",
    "The database schema is: {schema} \n",
    "\n",
    "When returning a query, output only the query itself—no extra words or explanations.\"\"\"),\n",
    "        MessagesPlaceholder(variable_name=\"history\"),\n",
    "        (\"user\", \"{query}\")\n",
    "    ]\n",
    ")\n",
    "\n",
    "prompt.invoke(\n",
    "    {\n",
    "        \"schema\": collection.find_one({}),\n",
    "        \"history\": [\n",
    "            {\"role\": \"user\", \"content\": \"\"},\n",
    "            {\"role\": \"assistant\", \"content\": \"\"}\n",
    "        ],\n",
    "        \"query\": \"What is the capital of France?\"\n",
    "    }\n",
    ")\n"
   ]
  },
  {
   "cell_type": "code",
   "execution_count": 10,
   "metadata": {},
   "outputs": [],
   "source": [
    "from langchain_openai import ChatOpenAI\n",
    "\n",
    "# llama-server -m qwen2.5-7b-instruct-q4_0.gguf \\\n",
    "#     --threads -1 --host 0.0.0.0 --port 8000 \\\n",
    "#     --log-file chat_llm \\\n",
    "#     --ctx-size 8192 \\\n",
    "#     --n-predict 512 \\\n",
    "#     --temp 0.5 \\\n",
    "#     --top-k 10 \\\n",
    "#     --top-p 0.9 \\\n",
    "#     --min-p 0.1 \\\n",
    "#     --repeat-penalty 1.1 \\\n",
    "#     --mlock \\\n",
    "#     --batch-size 16\n",
    "\n",
    "openai_api_key = \"NA\"\n",
    "openai_api_base = \"http://localhost:8000/v1\"\n",
    "model_name = \"qwen2.5-7b-instruct-q4_0.gguf\"\n",
    "model = ChatOpenAI(\n",
    "    api_key = openai_api_key,\n",
    "    base_url = openai_api_base,\n",
    "    model_name = model_name\n",
    ")"
   ]
  },
  {
   "cell_type": "code",
   "execution_count": null,
   "metadata": {},
   "outputs": [],
   "source": [
    "import re \n",
    "\n",
    "def mongo_exec(ai_message):\n",
    "    try:\n",
    "        return f\"The result of the query is:\\n{eval(ai_message)}.\"\n",
    "    except Exception as e:\n",
    "        pattern = re.compile(r\"\\bcollection\")\n",
    "        if pattern.search(ai_message):\n",
    "            return f\"Extract only the query from {ai_message}.\"\n",
    "        else:\n",
    "            return \"Invalid query. Please try again.\""
   ]
  },
  {
   "cell_type": "code",
   "execution_count": 77,
   "metadata": {},
   "outputs": [
    {
     "data": {
      "text/plain": [
       "AIMessage(content='collection.count_documents({\"dst\": \"GNB\"})', additional_kwargs={'refusal': None}, response_metadata={'token_usage': {'completion_tokens': 11, 'prompt_tokens': 483, 'total_tokens': 494, 'completion_tokens_details': None, 'prompt_tokens_details': None}, 'model_name': 'qwen2.5-7b-instruct-q4_0.gguf', 'system_fingerprint': 'b4970-c7b43ab6', 'id': 'chatcmpl-temRHzYH6lQBlEW7HTogxSremBUDWPgY', 'finish_reason': 'stop', 'logprobs': None}, id='run-fe5bfb75-6857-440c-b572-d9765902a41e-0', usage_metadata={'input_tokens': 483, 'output_tokens': 11, 'total_tokens': 494, 'input_token_details': {}, 'output_token_details': {}})"
      ]
     },
     "execution_count": 77,
     "metadata": {},
     "output_type": "execute_result"
    }
   ],
   "source": [
    "# Option 2: For extracting the number of errors.\n",
    "# pipeline = [\n",
    "#     {\n",
    "#         \"$match\": { \"src\": \"AMF\" } \n",
    "#     },\n",
    "#     {\n",
    "#         \"$count\": \"num_errors\"  # $count requires a string field name\n",
    "#     }\n",
    "# ]\n",
    "\n",
    "# result = list(collection.aggregate(pipeline))\n",
    "# print(result) \n",
    "chain = prompt | model\n",
    "chain.invoke(\n",
    "    {\n",
    "        \"schema\": collection.find_one({}),\n",
    "        \"history\": [\n",
    "            {\"role\": \"user\", \"content\": \"Example:- Count the number of errors with source as UDR\"},\n",
    "            {\"role\": \"assistant\", \"content\": \"\"\"collection.count_documents({\"src\": \"AMF\"})\"\"\"}\n",
    "        ],\n",
    "        \"query\": \"Count the number of errors with destination as GNB\"\n",
    "    }\n",
    ")"
   ]
  },
  {
   "cell_type": "code",
   "execution_count": 88,
   "metadata": {},
   "outputs": [
    {
     "data": {
      "text/plain": [
       "'The result of the query is: 2.'"
      ]
     },
     "execution_count": 88,
     "metadata": {},
     "output_type": "execute_result"
    }
   ],
   "source": [
    "from langchain_core.output_parsers import StrOutputParser\n",
    "\n",
    "chain = prompt | model | StrOutputParser() | mongo_exec\n",
    "chain.invoke(\n",
    "    {\n",
    "        \"schema\": collection.find_one({}),\n",
    "        \"history\": [\n",
    "            {\"role\": \"user\", \"content\": \"Example:- Count the number of errors with source as UDR\"},\n",
    "            {\"role\": \"assistant\", \"content\": \"\"\"collection.count_documents({\"src\": \"AMF\"})\"\"\"}\n",
    "        ],\n",
    "        \"query\": \"Count the number of errors with destination as GNB\"\n",
    "    }\n",
    ")"
   ]
  }
 ],
 "metadata": {
  "kernelspec": {
   "display_name": "base",
   "language": "python",
   "name": "python3"
  },
  "language_info": {
   "codemirror_mode": {
    "name": "ipython",
    "version": 3
   },
   "file_extension": ".py",
   "mimetype": "text/x-python",
   "name": "python",
   "nbconvert_exporter": "python",
   "pygments_lexer": "ipython3",
   "version": "3.12.9"
  }
 },
 "nbformat": 4,
 "nbformat_minor": 2
}
